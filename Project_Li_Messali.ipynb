{
 "cells": [
  {
   "cell_type": "code",
   "execution_count": null,
   "metadata": {},
   "outputs": [],
   "source": [
    "<img src='./figures/logo-ecole-polytechnique-ve.jpg' style='position:absolute; top:0; right:0;' width='100px' height='' alt='' />\n",
    "\n",
    "<center><b>Bachelor of Ecole Polytechnique</b></center>\n",
    "<center>MAA106: Introduction to Numerical Analysis, year 1, semester 2</center>\n",
    "<center>Authors: Zhihui Li and Kevin Messali</center>\n",
    "<br>\n",
    "<center><i>Approximation of periodic functions</i></center>\n",
    "\n",
    "# Approximation of periodic functions\n",
    "\n",
    "&nbsp;\n",
    "\n",
    "<table>\n",
    "        <tr>\n",
    "            <td><img src=\"./figures/Interpolation.png\" alt=\"Interpolation\" style=\"height: 300px;\"/></td>\n",
    "            <td><img src=\"./figures/LeastSquares.png\" alt=\"LeastSquares\" style=\"height: 290px;\"/></td>\n",
    "        </tr>\n",
    "</table>\n",
    "\n",
    "&nbsp;"
   ]
  },
  {
   "cell_type": "code",
   "execution_count": 2,
   "metadata": {},
   "outputs": [
    {
     "output_type": "stream",
     "name": "stdout",
     "text": [
      "[-2.0000000000000004, 2.5427901840275585e-14]\n"
     ]
    }
   ],
   "source": [
    "import numpy\n",
    "import scipy.integrate as integrate\n",
    "\n",
    "def a_n(f, x, n):\n",
    "    subresult = integrate.quad(lambda x: f(x)*numpy.cos(n*x), 0, numpy.pi)\n",
    "    temp = list()\n",
    "    for element in subresult:\n",
    "        temp.append( element/numpy.pi )\n",
    "    return temp\n",
    "    \n",
    "\n",
    "def f1(x):\n",
    "    return x**2\n",
    "\n",
    "x = numpy.arange(-1,1,10)\n",
    "n = 1\n",
    "print(a_n(f1, x, n))"
   ]
  },
  {
   "cell_type": "code",
   "execution_count": null,
   "metadata": {},
   "outputs": [],
   "source": []
  },
  {
   "cell_type": "code",
   "execution_count": null,
   "metadata": {},
   "outputs": [],
   "source": []
  }
 ],
 "metadata": {
  "kernelspec": {
   "name": "python385jvsc74a57bd08ab0d968002a578cf1e1aa041721a175249ba338f6da29efa5ef1a380c630376",
   "display_name": "Python 3.8.5 64-bit (conda)"
  }
 },
 "nbformat": 4,
 "nbformat_minor": 4
}