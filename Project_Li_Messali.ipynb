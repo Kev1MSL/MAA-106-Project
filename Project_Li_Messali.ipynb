{
 "cells": [
  {
   "cell_type": "code",
   "execution_count": null,
   "metadata": {},
   "outputs": [],
   "source": [
    "<img src='./figures/logo-ecole-polytechnique-ve.jpg' style='position:absolute; top:0; right:0;' width='100px' height='' alt='' />\n",
    "\n",
    "<center><b>Bachelor of Ecole Polytechnique</b></center>\n",
    "<center>MAA106: Introduction to Numerical Analysis, year 1, semester 2</center>\n",
    "<center>Authors: Zhihui Li and Kevin Messali</center>\n",
    "<br>\n",
    "<center><i>Approximation of periodic functions</i></center>\n",
    "\n",
    "# Approximation of periodic functions\n",
    "\n",
    "&nbsp;\n",
    "\n",
    "<table>\n",
    "        <tr>\n",
    "            <td><img src=\"./figures/Interpolation.png\" alt=\"Interpolation\" style=\"height: 300px;\"/></td>\n",
    "            <td><img src=\"./figures/LeastSquares.png\" alt=\"LeastSquares\" style=\"height: 290px;\"/></td>\n",
    "        </tr>\n",
    "</table>\n",
    "\n",
    "&nbsp;"
   ]
  },
  {
   "cell_type": "code",
   "execution_count": 15,
   "metadata": {},
   "outputs": [
    {
     "output_type": "stream",
     "name": "stdout",
     "text": [
      "-1.9999999999999996\n0.0\n0.6366197723675814\n0.0\n"
     ]
    }
   ],
   "source": [
    "import numpy as np\n",
    "import scipy.integrate as integrate\n",
    "\n",
    "def a_n(f, n):\n",
    "    # We used scipy.integrate to calculate the integral\n",
    "    # scipy.integrate() returns a tuple,\n",
    "    # where the first element holding the estimated value of the integral\n",
    "    # and the second element holding an upper bound on the error\n",
    "    subresult = integrate.quad(lambda x: f(x)*np.cos(n*x), -np.pi, np.pi)[0]\n",
    "    return (1/(2*np.pi))*subresult\n",
    "\n",
    "def b_n(f, n):\n",
    "    # We used scipy.integrate to calculate the integral\n",
    "    # scipy.integrate() returns a tuple,\n",
    "    # where the first element holding the estimated value of the integral\n",
    "    # and the second element holding an upper bound on the error\n",
    "    subresult = integrate.quad(lambda x: f(x)*np.sin(n*x), -np.pi, np.pi)[0]\n",
    "    return (1/(2*np.pi))*subresult\n",
    "\n",
    "def fourier_series(f, a_n, b_n):\n",
    "    return a_n(0) + 2 * sum_to_infinity()\n",
    "\n",
    "def sum_to_infinity(N=10000):\n",
    "    eps = 10**(-5)\n",
    "    i = 2\n",
    "    sum1 = sum(a_n(f, 1) * np.cos(x) + b_n(f, 1) * np.sin(x))\n",
    "    while abs(sum1) < eps and i < N:\n",
    "        sum1 += sum(a_n(f, i) * np.cos(i*x) + b_n(f, i) * np.sin(i*x))\n",
    "        i+=1\n",
    "\n",
    "def f1(x):\n",
    "    return x**2\n",
    "n = 1\n",
    "print(a_n(f1, n))\n",
    "print(b_n(f1, n))\n"
   ]
  },
  {
   "cell_type": "code",
   "execution_count": null,
   "metadata": {},
   "outputs": [],
   "source": [
    "\"\"\"\n",
    "Definition of f: f is a 2-pi periodic even function on (-pi, pi] defined such that f(x) = 1 if x belongs to [-pi/2, pi/2] and f(x) = -1 otherwise.\n",
    "\"\"\"\n",
    "def an_f(n):\n",
    "    \"\"\"\n",
    "    We get a convergence for the coefficient a_n as n tends to infinity to 0. \n",
    "    \"\"\"\n",
    "    return (1/(2*np.pi)) * (integrate.quad(lambda x: -np.cos(n*x), -np.pi, -np.pi/2)[0] + integrate.quad(lambda x: np.cos(n*x), -np.pi/2, np.pi/2)[0] + integrate.quad(lambda x: -np.cos(n*x), np.pi/2, np.pi)[0])\n",
    "\n",
    "def bn_f(n):\n",
    "    \"\"\"\n",
    "    Since f is an even function, by remark 1.2 b_n is 0.\n",
    "    \"\"\"\n",
    "    return (1/(2*np.pi)) * (integrate.quad(lambda x: -np.sin(n*x), -np.pi, -np.pi/2)[0] + integrate.quad(lambda x: np.sin(n*x), -np.pi/2, np.pi/2)[0] + integrate.quad(lambda x: -np.sin(n*x), np.pi/2, np.pi)[0])\n",
    "\n",
    "n = 1\n",
    "print(an_f(n)) # Convergent to 0\n",
    "print(bn_f(n))  # Getting 0 as expected"
   ]
  },
  {
   "cell_type": "code",
   "execution_count": 23,
   "metadata": {},
   "outputs": [
    {
     "output_type": "stream",
     "name": "stdout",
     "text": [
      "1.9138791774463673e-15\n0.0\n"
     ]
    }
   ],
   "source": [
    "\"\"\"\n",
    "Definition of g: g is a 2-pi periodic even function on (-pi, pi] defined such that g(x) = 1 - (2 * abs(x)/pi)\n",
    "\"\"\"\n",
    "\n",
    "def g(x):\n",
    "    return 1 - (2 * np.abs(x) / np.pi)\n",
    "\n",
    "def an_f(n):\n",
    "    \"\"\"\n",
    "    We get a convergence for the coefficient a_n as n tends to infinity to 0. \n",
    "    \"\"\"\n",
    "    return (1/(2*np.pi)) * integrate.quad(lambda x: g(x) * np.cos(n*x), -np.pi, np.pi)[0]\n",
    "\n",
    "\n",
    "def bn_f(n):\n",
    "    \"\"\"\n",
    "    Since g is an even function, by remark 1.2 b_n is 0.\n",
    "    \"\"\"\n",
    "    return (1/(2*np.pi)) * integrate.quad(lambda x: g(x) * np.sin(n*x), -np.pi, np.pi)[0]\n",
    "\n",
    "n = 100\n",
    "print(an_f(n)) # Convergent to 0\n",
    "print(bn_f(n)) # Getting 0 as expected"
   ]
  },
  {
   "cell_type": "code",
   "execution_count": null,
   "metadata": {},
   "outputs": [],
   "source": []
  }
 ],
 "metadata": {
  "kernelspec": {
   "name": "python385jvsc74a57bd08ab0d968002a578cf1e1aa041721a175249ba338f6da29efa5ef1a380c630376",
   "display_name": "Python 3.8.5 64-bit (conda)"
  }
 },
 "nbformat": 4,
 "nbformat_minor": 4
}