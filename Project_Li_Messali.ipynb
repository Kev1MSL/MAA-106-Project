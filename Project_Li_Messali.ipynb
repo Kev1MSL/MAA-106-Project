{
 "cells": [
  {
   "cell_type": "code",
   "execution_count": null,
   "metadata": {},
   "outputs": [],
   "source": [
    "<img src='./figures/logo-ecole-polytechnique-ve.jpg' style='position:absolute; top:0; right:0;' width='100px' height='' alt='' />\n",
    "\n",
    "<center><b>Bachelor of Ecole Polytechnique</b></center>\n",
    "<center>MAA106: Introduction to Numerical Analysis, year 1, semester 2</center>\n",
    "<center>Authors: Zhihui Li and Kevin Messali</center>\n",
    "<br>\n",
    "<center><i>Approximation of periodic functions</i></center>\n",
    "\n",
    "# Approximation of periodic functions\n",
    "\n",
    "&nbsp;\n",
    "\n",
    "<table>\n",
    "        <tr>\n",
    "            <td><img src=\"./figures/Interpolation.png\" alt=\"Interpolation\" style=\"height: 300px;\"/></td>\n",
    "            <td><img src=\"./figures/LeastSquares.png\" alt=\"LeastSquares\" style=\"height: 290px;\"/></td>\n",
    "        </tr>\n",
    "</table>\n",
    "\n",
    "&nbsp;"
   ]
  },
  {
   "cell_type": "code",
   "execution_count": 3,
   "metadata": {},
   "outputs": [
    {
     "output_type": "stream",
     "name": "stdout",
     "text": [
      "-2.0000000000000004\n1.8683531088546308\n"
     ]
    }
   ],
   "source": [
    "import numpy\n",
    "import scipy.integrate as integrate\n",
    "\n",
    "def a_n(f, n):\n",
    "    # We used scipy.integrate to calculate the integral\n",
    "    # scipy.integrate() returns a tuple,\n",
    "    # where the first element holding the estimated value of the integral\n",
    "    # and the second element holding an upper bound on the error\n",
    "    subresult = integrate.quad(lambda x: f(x)*numpy.cos(n*x), 0, numpy.pi)[0]\n",
    "    return (1/numpy.pi)*subresult\n",
    "\n",
    "def b_n(f, n):\n",
    "    # We used scipy.integrate to calculate the integral\n",
    "    # scipy.integrate() returns a tuple,\n",
    "    # where the first element holding the estimated value of the integral\n",
    "    # and the second element holding an upper bound on the error\n",
    "    subresult = integrate.quad(lambda x: f(x)*numpy.sin(n*x), 0, numpy.pi)[0]\n",
    "    return (1/numpy.pi)*subresult\n",
    "\n",
    "\n",
    "def f1(x):\n",
    "    return x**2\n",
    "\n",
    "x = numpy.arange(-1,1,10)\n",
    "n = 1\n",
    "print(a_n(f1, n))\n",
    "print(b_n(f1, n))"
   ]
  },
  {
   "cell_type": "code",
   "execution_count": null,
   "metadata": {},
   "outputs": [],
   "source": []
  },
  {
   "cell_type": "code",
   "execution_count": null,
   "metadata": {},
   "outputs": [],
   "source": []
  }
 ],
 "metadata": {
  "kernelspec": {
   "name": "python388jvsc74a57bd0dca0ade3e726a953b501b15e8e990130d2b7799f14cfd9f4271676035ebe5511",
   "display_name": "Python 3.8.8 64-bit ('base': conda)"
  }
 },
 "nbformat": 4,
 "nbformat_minor": 4
}