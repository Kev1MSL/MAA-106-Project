{
 "cells": [
  {
   "source": [
    "<img src='./figures/logo-ecole-polytechnique-ve.jpg' style='position:absolute; top:0; right:0;' width='100px' height='' alt='' />\n",
    "\n",
    "<center><b>Bachelor of Ecole Polytechnique</b></center>\n",
    "<center>MAA106: Introduction to Numerical Analysis, year 1, semester 2</center>\n",
    "<center>Authors: Zhihui Li and Kevin Messali</center>\n",
    "<br>\n",
    "<center><i>Approximation of periodic functions</i></center>\n",
    "\n",
    "# Approximation of periodic functions\n",
    "\n",
    "&nbsp;"
   ],
   "cell_type": "markdown",
   "metadata": {}
  },
  {
   "cell_type": "code",
   "execution_count": 7,
   "metadata": {},
   "outputs": [
    {
     "output_type": "error",
     "ename": "ModuleNotFoundError",
     "evalue": "No module named 'scipy.linalg.solve'",
     "traceback": [
      "\u001b[1;31m---------------------------------------------------------------------------\u001b[0m",
      "\u001b[1;31mModuleNotFoundError\u001b[0m                       Traceback (most recent call last)",
      "\u001b[1;32m<ipython-input-7-6a597508e481>\u001b[0m in \u001b[0;36m<module>\u001b[1;34m\u001b[0m\n\u001b[0;32m      1\u001b[0m \u001b[1;32mimport\u001b[0m \u001b[0mnumpy\u001b[0m \u001b[1;32mas\u001b[0m \u001b[0mnp\u001b[0m\u001b[1;33m\u001b[0m\u001b[1;33m\u001b[0m\u001b[0m\n\u001b[0;32m      2\u001b[0m \u001b[1;32mimport\u001b[0m \u001b[0mscipy\u001b[0m\u001b[1;33m.\u001b[0m\u001b[0mintegrate\u001b[0m \u001b[1;32mas\u001b[0m \u001b[0mintegrate\u001b[0m\u001b[1;33m\u001b[0m\u001b[1;33m\u001b[0m\u001b[0m\n\u001b[1;32m----> 3\u001b[1;33m \u001b[1;32mimport\u001b[0m \u001b[0mscipy\u001b[0m\u001b[1;33m.\u001b[0m\u001b[0mlinalg\u001b[0m\u001b[1;33m.\u001b[0m\u001b[0msolve\u001b[0m \u001b[1;32mas\u001b[0m \u001b[0msolve\u001b[0m\u001b[1;33m\u001b[0m\u001b[1;33m\u001b[0m\u001b[0m\n\u001b[0m\u001b[0;32m      4\u001b[0m \u001b[1;32mimport\u001b[0m \u001b[0mmatplotlib\u001b[0m\u001b[1;33m.\u001b[0m\u001b[0mpyplot\u001b[0m \u001b[1;32mas\u001b[0m \u001b[0mplt\u001b[0m\u001b[1;33m\u001b[0m\u001b[1;33m\u001b[0m\u001b[0m\n",
      "\u001b[1;31mModuleNotFoundError\u001b[0m: No module named 'scipy.linalg.solve'"
     ]
    }
   ],
   "source": [
    "import numpy as np\n",
    "import scipy.integrate as integrate\n",
    "import scipy.linalg.solve as solve\n",
    "import matplotlib.pyplot as plt"
   ]
  },
  {
   "cell_type": "code",
   "execution_count": 1,
   "metadata": {},
   "outputs": [
    {
     "output_type": "error",
     "ename": "NameError",
     "evalue": "name 'np' is not defined",
     "traceback": [
      "\u001b[1;31m---------------------------------------------------------------------------\u001b[0m",
      "\u001b[1;31mNameError\u001b[0m                                 Traceback (most recent call last)",
      "\u001b[1;32m<ipython-input-1-9a516219e988>\u001b[0m in \u001b[0;36m<module>\u001b[1;34m\u001b[0m\n\u001b[0;32m      2\u001b[0m \u001b[0mDefinition\u001b[0m \u001b[0mof\u001b[0m \u001b[0mf\u001b[0m\u001b[1;33m:\u001b[0m \u001b[0mf\u001b[0m \u001b[1;32mis\u001b[0m \u001b[0ma\u001b[0m \u001b[1;36m2\u001b[0m\u001b[1;33m-\u001b[0m\u001b[0mpi\u001b[0m \u001b[0mperiodic\u001b[0m \u001b[0meven\u001b[0m \u001b[0mfunction\u001b[0m \u001b[0mon\u001b[0m \u001b[1;33m(\u001b[0m\u001b[1;33m-\u001b[0m\u001b[0mpi\u001b[0m\u001b[1;33m,\u001b[0m \u001b[0mpi\u001b[0m\u001b[1;33m]\u001b[0m \u001b[0mdefined\u001b[0m \u001b[0msuch\u001b[0m \u001b[0mthat\u001b[0m \u001b[0mf\u001b[0m\u001b[1;33m(\u001b[0m\u001b[0mx\u001b[0m\u001b[1;33m)\u001b[0m \u001b[1;33m=\u001b[0m \u001b[1;36m1\u001b[0m \u001b[1;32mif\u001b[0m \u001b[0mx\u001b[0m \u001b[0mbelongs\u001b[0m \u001b[0mto\u001b[0m \u001b[1;33m[\u001b[0m\u001b[1;33m-\u001b[0m\u001b[0mpi\u001b[0m\u001b[1;33m/\u001b[0m\u001b[1;36m2\u001b[0m\u001b[1;33m,\u001b[0m \u001b[0mpi\u001b[0m\u001b[1;33m/\u001b[0m\u001b[1;36m2\u001b[0m\u001b[1;33m]\u001b[0m \u001b[1;32mand\u001b[0m \u001b[0mf\u001b[0m\u001b[1;33m(\u001b[0m\u001b[0mx\u001b[0m\u001b[1;33m)\u001b[0m \u001b[1;33m=\u001b[0m \u001b[1;33m-\u001b[0m\u001b[1;36m1\u001b[0m \u001b[0motherwise\u001b[0m\u001b[1;33m.\u001b[0m\u001b[1;33m\u001b[0m\u001b[1;33m\u001b[0m\u001b[0m\n\u001b[0;32m      3\u001b[0m \"\"\"\n\u001b[1;32m----> 4\u001b[1;33m \u001b[0mX_1\u001b[0m \u001b[1;33m=\u001b[0m \u001b[0mnp\u001b[0m\u001b[1;33m.\u001b[0m\u001b[0mlinspace\u001b[0m\u001b[1;33m(\u001b[0m\u001b[1;33m-\u001b[0m\u001b[0mnp\u001b[0m\u001b[1;33m.\u001b[0m\u001b[0mpi\u001b[0m\u001b[1;33m/\u001b[0m\u001b[1;36m2\u001b[0m\u001b[1;33m,\u001b[0m \u001b[0mnp\u001b[0m\u001b[1;33m.\u001b[0m\u001b[0mpi\u001b[0m\u001b[1;33m/\u001b[0m\u001b[1;36m2\u001b[0m\u001b[1;33m,\u001b[0m \u001b[1;36m100\u001b[0m\u001b[1;33m)\u001b[0m\u001b[1;33m\u001b[0m\u001b[1;33m\u001b[0m\u001b[0m\n\u001b[0m\u001b[0;32m      5\u001b[0m \u001b[0mY_1\u001b[0m \u001b[1;33m=\u001b[0m \u001b[0mnp\u001b[0m\u001b[1;33m.\u001b[0m\u001b[0mones\u001b[0m\u001b[1;33m(\u001b[0m\u001b[1;36m100\u001b[0m\u001b[1;33m)\u001b[0m\u001b[1;33m\u001b[0m\u001b[1;33m\u001b[0m\u001b[0m\n\u001b[0;32m      6\u001b[0m \u001b[0mX_2\u001b[0m \u001b[1;33m=\u001b[0m \u001b[0mnp\u001b[0m\u001b[1;33m.\u001b[0m\u001b[0mlinspace\u001b[0m\u001b[1;33m(\u001b[0m\u001b[1;33m-\u001b[0m\u001b[0mnp\u001b[0m\u001b[1;33m.\u001b[0m\u001b[0mpi\u001b[0m\u001b[1;33m,\u001b[0m \u001b[1;33m-\u001b[0m\u001b[0mnp\u001b[0m\u001b[1;33m.\u001b[0m\u001b[0mpi\u001b[0m\u001b[1;33m/\u001b[0m\u001b[1;36m2\u001b[0m\u001b[1;33m,\u001b[0m \u001b[1;36m100\u001b[0m\u001b[1;33m)\u001b[0m\u001b[1;33m\u001b[0m\u001b[1;33m\u001b[0m\u001b[0m\n",
      "\u001b[1;31mNameError\u001b[0m: name 'np' is not defined"
     ]
    }
   ],
   "source": [
    "\"\"\"\n",
    "Definition of f: f is a 2-pi periodic even function on (-pi, pi] defined such that f(x) = 1 if x belongs to [-pi/2, pi/2] and f(x) = -1 otherwise.\n",
    "\"\"\"\n",
    "X_1 = np.linspace(-np.pi/2, np.pi/2, 100)\n",
    "Y_1 = np.ones(100)\n",
    "X_2 = np.linspace(-np.pi, -np.pi/2, 100)\n",
    "X_3 = np.linspace(np.pi/2, np.pi, 100)\n",
    "Y_2 = np.zeros(100)\n",
    "\n",
    "def an_f1(n):\n",
    "    \"\"\"\n",
    "    We get a convergence for the coefficient a_n as n tends to infinity to 0 by trigonometric limits of the form sin(x)/x as x tends to infinity.\n",
    "    \"\"\"\n",
    "    return 2*np.sin(n*np.pi/2)/(n*np.pi)\n",
    "\n",
    "def bn_f1(n):\n",
    "    \"\"\"\n",
    "    Since f is an even function, by remark 1.2 b_n is 0.\n",
    "    \"\"\"\n",
    "    return 0\n",
    "\n",
    "\n",
    "n = 10\n",
    "print(f'an_f1(10): {an_f1(n)}') # Convergent to 0\n",
    "print(f'bn_f1(n): {bn_f1(n)}')  # Getting 0 as expected because f is even\n",
    "\n",
    "plt.figure(figsize=(10, 6))\n",
    "plt.plot(X_1, Y_1, color=\"blue\") # plot the graph of f(x)\n",
    "plt.plot(X_2, Y_2, color=\"blue\")\n",
    "plt.plot(X_3, Y_2, color=\"blue\")\n",
    "plt.xlabel('x', fontsize = 18)\n",
    "plt.ylabel('f(x)', fontsize = 18)\n",
    "plt.title('f(x)', fontsize = 18)\n",
    "plt.show()"
   ]
  },
  {
   "cell_type": "code",
   "execution_count": null,
   "metadata": {},
   "outputs": [],
   "source": [
    "\"\"\"\n",
    "Definition of g: g is a 2-pi periodic even function on (-pi, pi] defined such that g(x) = 1 - (2 * abs(x)/pi)\n",
    "\"\"\"\n",
    "\n",
    "def g(x):\n",
    "    return 1 - (2*(np.abs(x)/np.pi))\n",
    "\n",
    "\n",
    "def an_f2(n):\n",
    "    \"\"\"\n",
    "    We get a convergence for the coefficient a_n as n tends to infinity to 0. \n",
    "    \"\"\"\n",
    "    return ((-4)/(np.pi * n ** 2)) * (np.pi*n*np.sin(np.pi * n) + np.cos(np.pi * n))\n",
    "\n",
    "\n",
    "def bn_f2(n):\n",
    "    \"\"\"\n",
    "    Since g is an even function, by remark 1.2 b_n is 0.\n",
    "    \"\"\"\n",
    "    return 0\n",
    "\n",
    "\n",
    "n = 10\n",
    "print(f'an_f2(10): {an_f2(n)}') # Convergent to 0\n",
    "print(f'bn_f2(n): {bn_f2(n)}') # Getting 0 as expected because g is even\n",
    "\n",
    "X = np.linspace(-np.pi, np.pi, 200)\n",
    "plt.figure(figsize=(10, 6))\n",
    "plt.plot(X, g(X), color=\"red\") # plot the graph of g(x)\n",
    "plt.xlabel('x', fontsize = 18)\n",
    "plt.ylabel('g(x)', fontsize = 18)\n",
    "plt.title('g(x)', fontsize = 18)\n",
    "plt.show()"
   ]
  },
  {
   "cell_type": "code",
   "execution_count": null,
   "metadata": {},
   "outputs": [],
   "source": [
    "\n",
    "def an_f(f, n):\n",
    "    \"\"\"\n",
    "    We used scipy.integrate to calculate the integral\n",
    "    scipy.integrate() returns a tuple,\n",
    "    where the first element holding the estimated value of the integral\n",
    "    and the second element holding an upper bound on the error\n",
    "    \"\"\"\n",
    "    subresult = integrate.quad(lambda x: f(x)*np.cos(n*x), -np.pi, np.pi)[0]\n",
    "    return (1/(2*np.pi))*subresult\n",
    "\n",
    "def bn_f(f, n):\n",
    "    \"\"\"\n",
    "    We used scipy.integrate to calculate the integral\n",
    "    scipy.integrate() returns a tuple,\n",
    "    where the first element holding the estimated value of the integral\n",
    "    and the second element holding an upper bound on the error\n",
    "    \"\"\"\n",
    "    subresult = integrate.quad(lambda x: f(x)*np.sin(n*x), -np.pi, np.pi)[0]\n",
    "    return (1/(2*np.pi))*subresult\n",
    "\n",
    "\n",
    "def truncated_fourier_series(f, x, N):\n",
    "    \"\"\"\n",
    "    temp: variable used to store the truncated sum\n",
    "    range(1,n): compute sum from n=1 to n=N-1\n",
    "    \"\"\"\n",
    "    a_0 = an_f(f, 0)\n",
    "    temp = a_0\n",
    "    for i in range(1,N):\n",
    "        a_i = an_f(f, i)\n",
    "        b_i = bn_f()\n",
    "        temp += 2*(a_i*np.cos(i*x) + b_i*np.sin(i*x))\n",
    "    return temp\n",
    "\n",
    "\n",
    "n = 10\n",
    "print(f'an_g(10): {an_f(g, n)}')\n",
    "print(f'bn_g(10): {bn_f(g, n)}')\n",
    "\n",
    "X = np.linspace(-np.pi, np.pi, 200)\n",
    "plt.figure(figsize=(10, 6))\n",
    "plt.plot(X, truncated_fourier_series(g, X, n), color=\"red\")\n",
    "plt.xlabel('x', fontsize = 18)\n",
    "plt.ylabel('g(x)', fontsize = 18)\n",
    "plt.title('Truncated fourier series', fontsize = 18)\n",
    "plt.show()"
   ]
  },
  {
   "source": [
    "### Study of decay of the Fourier coefficients (the rate at which they go to 0)"
   ],
   "cell_type": "markdown",
   "metadata": {}
  },
  {
   "cell_type": "code",
   "execution_count": null,
   "metadata": {
    "tags": []
   },
   "outputs": [],
   "source": [
    "n = 15\n",
    "N = np.arange(1, n)\n",
    "X = np.linspace(-np.pi, np.pi, 100)\n",
    "a_n = list()\n",
    "b_n = list()\n",
    "error_n = list()\n",
    "\n",
    "def g(x):\n",
    "    return np.sin(x) ** 2\n",
    "\n",
    "for i in N:\n",
    "    a_n.append(an_f(g, i))\n",
    "    b_n.append(bn_f(g, i))\n",
    "    error_n.append( max(np.abs(g(X)-truncated_fourier_series(g, X, i))) )\n",
    "    # error_n.append(integrate.quad(lambda x: g(x) - truncated_fourier_series(g, x, i), -np.pi, np.pi)[0]) \n",
    "    \n",
    "\n",
    "plt.figure(figsize=(10, 6))\n",
    "plt.plot(N, a_n, label='$a_n$')\n",
    "plt.plot(N, b_n, label='$b_n$')\n",
    "plt.xlabel('n', fontsize = 18)\n",
    "plt.ylabel('values of $a_n$ and $b_n$', fontsize = 18)\n",
    "plt.legend(loc='upper right')\n",
    "plt.title('Study of decay of the Fourier coefficients for g(x)', fontsize = 18)\n",
    "plt.show()\n",
    "\n",
    "plt.figure(figsize=(10, 6))\n",
    "plt.plot(N, error_n, label='absolute error over domain')\n",
    "plt.xlabel('n', fontsize = 18)\n",
    "plt.ylabel('absolute value error over interval [$-\\pi$,  $\\pi$]', fontsize = 18)\n",
    "plt.legend(loc='upper right')\n",
    "plt.title('Study of error $S_n$(g)', fontsize = 18)\n",
    "plt.show()\n",
    "\n",
    "print(a_n)\n",
    "print(error_n)"
   ]
  },
  {
   "source": [
    "For regular functions that are 2$\\pi$-periodic, we see a direct link between the decay of the coefficients and the error.Indeed see that the are both converging directly to 0 at the same n. This can be explained by the definition of truncated Fourier series: if the coefficient decays to 0, this means the current term of the sum decays to 0, which means the error between the truncated Fourier series and the origional function tends to 0. For function that are not 2$\\pi$-periodic we\n",
    "observe that their coefficients converge slower and that the error takes more time to get to 0.\n",
    "We observe that for very smooth functions, we have a very fast decay of the coefficients and therefore of the error."
   ],
   "cell_type": "markdown",
   "metadata": {}
  },
  {
   "source": [
    "This can be explained by the definition of truncated Fourier series: if the coefficient decays to 0, this means the current term of the sum decays to 0, which means the error between the truncated Fourier series and the origional function tends to 0."
   ],
   "cell_type": "markdown",
   "metadata": {}
  },
  {
   "source": [
    "# Section 2"
   ],
   "cell_type": "markdown",
   "metadata": {}
  },
  {
   "cell_type": "code",
   "execution_count": null,
   "metadata": {},
   "outputs": [],
   "source": [
    "N = 100\n",
    "\n",
    "f_hat = np.arrange(N)\n",
    "\n",
    "def X_k(k):\n",
    "    return (2*k + 1) * np.pi / (2 * N)\n",
    "\n",
    "def f(X):\n",
    "    ...\n",
    "def Pn(x):\n",
    "    f_0 = f_hat[0]\n",
    "    temp = f_0\n",
    "    for i in range(1,N):\n",
    "        temp += 2*(f_hat[i] * np.cos(i * x))\n",
    "    return temp\n",
    "\n"
   ]
  },
  {
   "cell_type": "code",
   "execution_count": null,
   "metadata": {},
   "outputs": [],
   "source": []
  },
  {
   "cell_type": "code",
   "execution_count": null,
   "metadata": {},
   "outputs": [],
   "source": []
  }
 ],
 "metadata": {
  "kernelspec": {
   "name": "python385jvsc74a57bd08ab0d968002a578cf1e1aa041721a175249ba338f6da29efa5ef1a380c630376",
   "display_name": "Python 3.8.5 64-bit (conda)"
  }
 },
 "nbformat": 4,
 "nbformat_minor": 4
}