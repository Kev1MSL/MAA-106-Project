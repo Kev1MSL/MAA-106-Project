{
 "cells": [
  {
   "source": [
    "<img src='./figures/logo-ecole-polytechnique-ve.jpg' style='position:absolute; top:0; right:0;' width='100px' height='' alt='' />\n",
    "\n",
    "<center><b>Bachelor of Ecole Polytechnique</b></center>\n",
    "<center>MAA106: Introduction to Numerical Analysis, year 1, semester 2</center>\n",
    "<center>Authors: Zhihui Li and Kevin Messali</center>\n",
    "<br>\n",
    "<center><i>Approximation of periodic functions</i></center>\n",
    "\n",
    "# Approximation of periodic functions\n",
    "\n",
    "&nbsp;"
   ],
   "cell_type": "markdown",
   "metadata": {}
  },
  {
   "cell_type": "code",
   "execution_count": 41,
   "metadata": {},
   "outputs": [],
   "source": [
    "import numpy as np\n",
    "import scipy.integrate as integrate"
   ]
  },
  {
   "cell_type": "code",
   "execution_count": 36,
   "metadata": {},
   "outputs": [
    {
     "output_type": "stream",
     "name": "stdout",
     "text": [
      "0.1273239544735162\n0.0\n"
     ]
    }
   ],
   "source": [
    "\"\"\"\n",
    "Definition of f: f is a 2-pi periodic even function on (-pi, pi] defined such that f(x) = 1 if x belongs to [-pi/2, pi/2] and f(x) = -1 otherwise.\n",
    "\"\"\"\n",
    "\n",
    "def an_f1(n):\n",
    "    \"\"\"\n",
    "    We get a convergence for the coefficient a_n as n tends to infinity to 0 by trigonometric limits of the form sin(x)/x as x tends to infinity.\n",
    "    \"\"\"\n",
    "    return 2*np.sin(n*np.pi/2)/(n*np.pi)\n",
    "\n",
    "def bn_f1(n):\n",
    "    \"\"\"\n",
    "    Since f is an even function, by remark 1.2 b_n is 0.\n",
    "    \"\"\"\n",
    "    return 0\n",
    "\n",
    "n = 5\n",
    "print(an_f(n)) # Convergent to 0\n",
    "print(bn_f(n))  # Getting 0 as expected"
   ]
  },
  {
   "cell_type": "code",
   "execution_count": 40,
   "metadata": {},
   "outputs": [
    {
     "output_type": "stream",
     "name": "stdout",
     "text": [
      "0.050929581789406014\n0\n"
     ]
    }
   ],
   "source": [
    "\"\"\"\n",
    "Definition of g: g is a 2-pi periodic even function on (-pi, pi] defined such that g(x) = 1 - (2 * abs(x)/pi)\n",
    "\"\"\"\n",
    "def an_f(n):\n",
    "    \"\"\"\n",
    "    We get a convergence for the coefficient a_n as n tends to infinity to 0. \n",
    "    \"\"\"\n",
    "    return ((-4)/(np.pi * n ** 2)) * (np.pi*n*np.sin(np.pi * n) + np.cos(np.pi * n))\n",
    "\n",
    "\n",
    "def bn_f(n):\n",
    "    \"\"\"\n",
    "    Since g is an even function, by remark 1.2 b_n is 0.\n",
    "    \"\"\"\n",
    "    return 0\n",
    "\n",
    "n = 5\n",
    "print(an_f(n)) # Convergent to 0\n",
    "print(bn_f(n)) # Getting 0 as expected"
   ]
  },
  {
   "cell_type": "code",
   "execution_count": 44,
   "metadata": {},
   "outputs": [
    {
     "output_type": "stream",
     "name": "stdout",
     "text": [
      "0.0\n1.3877787807814457e-17\n"
     ]
    }
   ],
   "source": [
    "def a_n(f, n):\n",
    "    # We used scipy.integrate to calculate the integral\n",
    "    # scipy.integrate() returns a tuple,\n",
    "    # where the first element holding the estimated value of the integral\n",
    "    # and the second element holding an upper bound on the error\n",
    "    subresult = integrate.quad(lambda x: f(x)*np.cos(n*x), -np.pi, np.pi)[0]\n",
    "    return (1/(2*np.pi))*subresult\n",
    "\n",
    "def b_n(f, n):\n",
    "    # We used scipy.integrate to calculate the integral\n",
    "    # scipy.integrate() returns a tuple,\n",
    "    # where the first element holding the estimated value of the integral\n",
    "    # and the second element holding an upper bound on the error\n",
    "    subresult = integrate.quad(lambda x: f(x)*np.sin(n*x), -np.pi, np.pi)[0]\n",
    "    return (1/(2*np.pi))*subresult\n",
    "\n",
    "# def fourier_series(f, a_n, b_n):\n",
    "#     return a_n(0) + 2 * sum_to_infinity()\n",
    "\n",
    "# def sum_to_infinity(N=10000):\n",
    "#     eps = 10**(-5)\n",
    "#     i = 2\n",
    "#     sum1 = sum(a_n(f, 1) * np.cos(x) + b_n(f, 1) * np.sin(x))\n",
    "#     while abs(sum1) < eps and i < N:\n",
    "#         sum1 += sum(a_n(f, i) * np.cos(i*x) + b_n(f, i) * np.sin(i*x))\n",
    "#         i+=1\n",
    "\n",
    "def f1(x):\n",
    "    return np.sin(x)\n",
    "n = 5\n",
    "print(a_n(f1, n)) # 0 since sin(x) is an odd function\n",
    "print(b_n(f1, n)) # Convergent to 0\n"
   ]
  },
  {
   "source": [
    "Study of decay of the Fourier coefficients (the rate at which they go to 0)"
   ],
   "cell_type": "markdown",
   "metadata": {}
  },
  {
   "cell_type": "code",
   "execution_count": null,
   "metadata": {},
   "outputs": [],
   "source": []
  },
  {
   "cell_type": "code",
   "execution_count": null,
   "metadata": {},
   "outputs": [],
   "source": []
  }
 ],
 "metadata": {
  "kernelspec": {
   "name": "python385jvsc74a57bd08ab0d968002a578cf1e1aa041721a175249ba338f6da29efa5ef1a380c630376",
   "display_name": "Python 3.8.5 64-bit (conda)"
  }
 },
 "nbformat": 4,
 "nbformat_minor": 4
}